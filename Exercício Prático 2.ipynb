{
 "cells": [
  {
   "cell_type": "markdown",
   "metadata": {},
   "source": [
    "1 Faça um programa que decide se duas listas são iguais. Duas listas são iguais se\n",
    "possuem os mesmos valores e na mesma ordem."
   ]
  },
  {
   "cell_type": "code",
   "execution_count": 2,
   "metadata": {},
   "outputs": [
    {
     "name": "stdout",
     "output_type": "stream",
     "text": [
      "São diferentes\n"
     ]
    }
   ],
   "source": [
    "lista1 = [1, 2, 3, 4, 5, 4, 7, 8, 3, 5, 9]\n",
    "lista2 = [1, 2, 3, 4, 5, 4, 7, 8, 3, 5, 2]\n",
    "if len(lista1) == len(lista2):\n",
    "    cont = 0\n",
    "    for elemento in lista1[0:len(lista1)]:\n",
    "        if elemento == lista2[cont]:\n",
    "            cont += 1 \n",
    "    if cont == len(lista1):\n",
    "        print ('São iguais')\n",
    "    else:\n",
    "         print ('São diferentes') \n",
    "else:\n",
    "    print ('São diferentes') \n",
    "  "
   ]
  },
  {
   "cell_type": "markdown",
   "metadata": {},
   "source": [
    "2 Faça um programa que percorre uma lista com o seguinte formato: [['Brasil', 'Italia',\n",
    "[10, 9]], ['Brasil', 'Espanha', [5, 7]], ['Italia', 'Espanha', [7,8]]]. Essa lista indica o\n",
    "número de faltas que cada time fez em cada jogo. Na lista acima, no jogo entre Brasil\n",
    "e Itália, o Brasil fez 10 faltas e a Itália fez 9.\n",
    "O programa deve imprimir na tela:\n",
    "- o total de faltas do campeonato\n",
    "- o time que fez mais faltas\n",
    "- o time que fez menos faltas"
   ]
  },
  {
   "cell_type": "code",
   "execution_count": 3,
   "metadata": {},
   "outputs": [
    {
     "name": "stdout",
     "output_type": "stream",
     "text": [
      "---------------- Total de faltas -----------------\n",
      "['Brasil', 15]\n",
      "['Italia', 16]\n",
      "['Espanha', 15]\n",
      "---------------- País mais faltoso -----------------\n",
      "Italia é o país mais faltoso com  16 faltas\n",
      "------------------------ País menos faltoso -------------------------\n",
      "Brasil e Espanha estão empatados como menos faltosos com  15 faltas\n"
     ]
    }
   ],
   "source": [
    "print (\"---------------- Total de faltas -----------------\")\n",
    "lista = [['Brasil', 'Italia', [10, 9]], ['Brasil', 'Espanha', [5, 7]], ['Italia', 'Espanha', [7,8]]]\n",
    "l1 = ['Brasil', 0]\n",
    "l2 = ['Italia', 0]\n",
    "l3 = ['Espanha', 0]\n",
    "cont = 0\n",
    "for lin in lista[0:len(lista)]:\n",
    "    if (lista[cont][0] == 'Brasil'):\n",
    "        l1[1] = l1[1] + lista[cont][2][0]\n",
    "    if (lista[cont][1] == 'Brasil'):\n",
    "        l1[1] = l1[1] + lista[cont][2][1]\n",
    "    if (lista[cont][0] == 'Italia'):\n",
    "        l2[1] = l2[1] + lista[cont][2][0]\n",
    "    if (lista[cont][1] == 'Italia'):\n",
    "        l2[1] = l2[1] + lista[cont][2][1]\n",
    "    if (lista[cont][0] == 'Espanha'):\n",
    "        l3[1] = l3[1] + lista[cont][2][0]\n",
    "    if (lista[cont][1] == 'Espanha'):\n",
    "        l3[1] = l3[1] + lista[cont][2][1]\n",
    "    cont += 1    \n",
    "print (l1)\n",
    "print (l2)\n",
    "print (l3)\n",
    "print (\"---------------- País mais faltoso -----------------\")\n",
    "if l1[1] > l2[1] and l1[1] > l3[1]:\n",
    "    print (l1[0], \"é o país mais faltoso com \", l1[1], \"faltas\")\n",
    "elif l2[1] > l1[1] and l2[1] > l3[1]:\n",
    "    print (l2[0], \"é o país mais faltoso com \", l2[1], \"faltas\")\n",
    "elif l1[1] == l2[1] and l1[1] > l3[1]:\n",
    "    print (l2[0], \"e\", l1[0] ,\"estão empatados como mais faltosos com \", l2[1], \"faltas\")\n",
    "elif l2[1] == l3[1] and l2[1] > l1[1]:\n",
    "    print (l2[0], \"e\", l3[0] ,\"estão empatados como mais faltosos com \", l2[1], \"faltas\")\n",
    "elif l1[1] == l3[1] and l1[1] > l2[1]:\n",
    "    print (l1[0], \"e\", l3[0] ,\"estão empatados como mais faltosos com \", l1[1], \"faltas\")\n",
    "elif l1[1] == l3[1] == l2[1]:\n",
    "    print (\"Todos estão empatados como mais faltosos com \", l3[1], \"faltas\")\n",
    "else:\n",
    "     print (l3[0],\"é o país mais faltoso com \", l3[1], \"faltas\")\n",
    "\n",
    "print (\"------------------------ País menos faltoso -------------------------\")        \n",
    "if l1[1] < l2[1] and l1[1] < l3[1]:\n",
    "    print (l1[0], \"é o país menos faltoso com \", l1[1], \"faltas\")\n",
    "elif l2[1] < l1[1] and l2[1] < l3[1]:\n",
    "    print (l2[0], \"é o país menos faltoso com \", l2[1], \"faltas\")\n",
    "elif l1[1] == l2[1] and l1[1] < l3[1]:\n",
    "    print (l2[0], \"e\", l1[0] ,\"estão empatados como menos faltosos com \", l2[1], \"faltas\")\n",
    "elif l2[1] == l3[1] and l2[1] < l1[1]:\n",
    "    print (l2[0], \"e\", l3[0] ,\"estão empatados como menos faltosos com \", l2[1], \"faltas\")\n",
    "elif l1[1] == l3[1] and l1[1] < l2[1]:\n",
    "    print (l1[0], \"e\", l3[0] ,\"estão empatados como menos faltosos com \", l1[1], \"faltas\")\n",
    "elif l1[1] == l3[1] == l2[1]:\n",
    "    print (\"Todos estão empatados como menos faltosos com \", l3[1], \"faltas\")\n",
    "else:\n",
    "     print (l3[0],\"é o país menos faltoso com \", l3[1], \" faltas\")"
   ]
  },
  {
   "cell_type": "markdown",
   "metadata": {},
   "source": [
    "1 Escreva um programa que lê̂ duas notas de vários alunos e armazena tais notas em um dicionário, em que a chave é o nome do aluno. A entrada de dados deve terminar quando for lida uma string vazia como nome. A seguir, faça um loop que pede o nome do aluno e mostra sua média."
   ]
  },
  {
   "cell_type": "code",
   "execution_count": null,
   "metadata": {},
   "outputs": [],
   "source": [
    "notas = {'andre': [2.5, 6.0], 'joão': [7.0, 6.0], 'maria': [7.5, 8.5], 'ana': [5.0, 7.5]}\n",
    "for nome in notas:\n",
    "    media = sum(notas[nome]) / 2\n",
    "    print (\"A média de \", nome, \" é: \", media)"
   ]
  },
  {
   "cell_type": "markdown",
   "metadata": {},
   "source": [
    "2 Uma pista de Kart permite 10 voltas para cada um de 6 corredores. Escreva um programa que leia todos os tempos em segundos e os guarde em um dicionário, em que a chave é o nome do corredor. Ao final diga de quem foi a melhor volta da prova e em\n",
    "que volta; e ainda a classificação final em ordem (1o o campeão). O campeão é o que tem a menor média de tempos."
   ]
  },
  {
   "cell_type": "code",
   "execution_count": 12,
   "metadata": {},
   "outputs": [
    {
     "name": "stdout",
     "output_type": "stream",
     "text": [
      "------------------------ Média dos pilotos -------------------------\n",
      "O corredor  andre  fez a corrida em  556.0 segundos.\n",
      "O corredor  lucas  fez a corrida em  554.0 segundos.\n",
      "O corredor  pedro  fez a corrida em  571.0 segundos.\n",
      "O corredor  jaime  fez a corrida em  568.0 segundos.\n",
      "O corredor  mario  fez a corrida em  572.0 segundos.\n",
      "O corredor  tomas  fez a corrida em  561.0 segundos.\n",
      "------------------------ Menor média -------------------------\n",
      "O vencedor foi o piloto  lucas  com o tempo médio de 55.4 segundos.\n",
      "------------------------ Melhor volta -------------------------\n",
      "A melhor volta foi a de no. 10 do piloto jaime com 51 segundos.\n"
     ]
    }
   ],
   "source": [
    "tempo = {'andre': [61, 60, 54, 55, 53, 56, 56, 55, 54, 52], 'lucas': [56, 55, 54, 59, 57, 56, 54, 56, 55, 52],\n",
    "         'pedro': [59, 62, 57, 57, 60, 57, 57, 56, 52, 54], 'jaime': [61, 60, 58, 59, 57, 56, 54, 57, 55, 51],\n",
    "         'mario': [62, 58, 59, 60, 57, 56, 55, 57, 55, 53], 'tomas': [56, 55, 54, 61, 60, 55, 56, 54, 56, 54]}\n",
    "print (\"------------------------ Média dos pilotos -------------------------\")  \n",
    "vencedor = 0\n",
    "menor = 70\n",
    "for nome in tempo:\n",
    "    total = sum(tempo[nome])/10\n",
    "    if (menor >= total):\n",
    "        menor = total\n",
    "        vencedor = nome\n",
    "    print (\"O corredor \",nome, \" fez a corrida em \", total*10, \"segundos.\") \n",
    "    \n",
    "print (\"------------------------ Menor média -------------------------\")  \n",
    "print (\"O vencedor foi o piloto \",vencedor, \" com o tempo médio de\",menor, \"segundos.\")\n",
    "\n",
    "print (\"------------------------ Melhor volta -------------------------\")\n",
    "melhorVolta = 60\n",
    "indice = 0\n",
    "piloto = \"zé\"\n",
    "for nome in tempo:\n",
    "    cont = 0\n",
    "    while (cont < 10):\n",
    "        if ((tempo[nome][cont]) < melhorVolta):\n",
    "            melhorVolta = tempo[nome][cont]\n",
    "            indice = cont + 1\n",
    "            piloto = nome\n",
    "        cont += 1\n",
    "print (\"A melhor volta foi a de no.\",indice, \"do piloto\",piloto,\"com\", melhorVolta, \"segundos.\")"
   ]
  },
  {
   "cell_type": "code",
   "execution_count": null,
   "metadata": {},
   "outputs": [],
   "source": []
  }
 ],
 "metadata": {
  "kernelspec": {
   "display_name": "Python 3",
   "language": "python",
   "name": "python3"
  },
  "language_info": {
   "codemirror_mode": {
    "name": "ipython",
    "version": 3
   },
   "file_extension": ".py",
   "mimetype": "text/x-python",
   "name": "python",
   "nbconvert_exporter": "python",
   "pygments_lexer": "ipython3",
   "version": "3.7.3"
  }
 },
 "nbformat": 4,
 "nbformat_minor": 2
}
